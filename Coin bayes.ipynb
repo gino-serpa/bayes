{
 "cells": [
  {
   "cell_type": "markdown",
   "metadata": {},
   "source": [
    "### The problem"
   ]
  },
  {
   "cell_type": "markdown",
   "metadata": {},
   "source": [
    "#### Say there is a coin that before a long game is set to one of two states, state 1 $p_H=1/2$ or state 2  $p_H = 3/4$ . If you do not know to what state the coin was set to before the game but believe that it was set to state 2 with probability $0.9$, how do coin tosses update your belief?\n"
   ]
  },
  {
   "cell_type": "markdown",
   "metadata": {},
   "source": [
    "## Bayes"
   ]
  },
  {
   "cell_type": "markdown",
   "metadata": {},
   "source": [
    "<center> $P(A|B) = \\dfrac{P(A)P(B|A)}{P(B)}$ </center>"
   ]
  },
  {
   "cell_type": "markdown",
   "metadata": {},
   "source": [
    "$A$: Coin in state 2\n",
    "\n",
    "$B$: Coin flip resulted in heads\n",
    "\n",
    "$P(A|B)$ : Probability of $A$ given $B$\n",
    "\n",
    "$P(B|A)$ : Probability of $B$ given $A$"
   ]
  },
  {
   "cell_type": "code",
   "execution_count": null,
   "metadata": {},
   "outputs": [],
   "source": []
  }
 ],
 "metadata": {
  "kernelspec": {
   "display_name": "Python 3",
   "language": "python",
   "name": "python3"
  },
  "language_info": {
   "codemirror_mode": {
    "name": "ipython",
    "version": 3
   },
   "file_extension": ".py",
   "mimetype": "text/x-python",
   "name": "python",
   "nbconvert_exporter": "python",
   "pygments_lexer": "ipython3",
   "version": "3.8.10"
  }
 },
 "nbformat": 4,
 "nbformat_minor": 4
}
