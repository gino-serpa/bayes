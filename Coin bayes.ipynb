{
 "cells": [
  {
   "cell_type": "markdown",
   "metadata": {},
   "source": [
    "## The problem"
   ]
  },
  {
   "cell_type": "markdown",
   "metadata": {},
   "source": [
    "Say there is a coin that before a long game is set to one of two states, State 1 $p_H=\\frac{1}{2}$ or State 2  $p_H = \\frac{3}{4}$ . If you do not know to what state the coin was set to before the game but believe that it was set to state 2 with probability $0.9$, how do coin tosses update your belief?\n"
   ]
  },
  {
   "cell_type": "markdown",
   "metadata": {},
   "source": [
    "## Code Talks"
   ]
  },
  {
   "cell_type": "code",
   "execution_count": 1,
   "metadata": {
    "ExecuteTime": {
     "end_time": "2022-03-09T01:24:01.742783Z",
     "start_time": "2022-03-09T01:24:01.676325Z"
    }
   },
   "outputs": [],
   "source": [
    "import numpy as np"
   ]
  },
  {
   "cell_type": "code",
   "execution_count": 2,
   "metadata": {
    "ExecuteTime": {
     "end_time": "2022-03-09T01:24:01.749063Z",
     "start_time": "2022-03-09T01:24:01.745125Z"
    },
    "code_folding": [
     0
    ]
   },
   "outputs": [],
   "source": [
    "def update_belief(old_belief, conditionals, event):\n",
    "    '''\n",
    "    Upates the old belief given that the result of \n",
    "    a coin toss (event) is available\n",
    "    '''\n",
    "    # Make sure the event makes sense\n",
    "    assert event in ['head','tail'], \\\n",
    "           print('Event must be head or tail')\n",
    "    \n",
    "    # This is what is called the prior I think\n",
    "    P_A = old_belief['fair']\n",
    "    \n",
    "    # B is the event\n",
    "    P_B_A = conditionals[event]['fair']\n",
    "    \n",
    "    P_B = old_belief['fair']   * conditionals[event]['fair'] + \\\n",
    "          old_belief['loaded'] * conditionals[event]['loaded']\n",
    "      \n",
    "    # This is the posterior  \n",
    "    P_B_A = P_A * P_B_A / P_B\n",
    "    \n",
    "    # Now we update\n",
    "    new_belief = {'fair': P_B_A,\n",
    "                  'loaded': 1 - P_B_A}\n",
    "    \n",
    "    return new_belief"
   ]
  },
  {
   "cell_type": "code",
   "execution_count": 3,
   "metadata": {
    "ExecuteTime": {
     "end_time": "2022-03-09T01:24:01.755854Z",
     "start_time": "2022-03-09T01:24:01.751021Z"
    },
    "code_folding": [
     0
    ]
   },
   "outputs": [],
   "source": [
    "def test_belief(first_belief, conditionals, n_trials, p_sequence):\n",
    "    \n",
    "    current_belief = first_belief.copy()\n",
    "\n",
    "    fair   = [current_belief['fair']] \n",
    "    history = [current_belief]\n",
    "    \n",
    "    p = p_sequence\n",
    "    choices = np.random.choice(['head','tail'], n_trials, p=[p,1-p])\n",
    "    #print('Choices', choices)\n",
    "    #print(list(choices).count('head'))\n",
    "    \n",
    "    \n",
    "    for choice in choices:\n",
    "        #print('Current Belief: ', current_belief)\n",
    "        #print('Choice: ', choice)\n",
    "        new_belief = update_belief(current_belief, \n",
    "                                   conditionals, \n",
    "                                   choice)\n",
    "        #print('New Belief: ', new_belief)\n",
    "        \n",
    "        history.append((choice, new_belief))\n",
    "        current_belief = new_belief.copy()\n",
    "        \n",
    "        fair.append(current_belief['fair'])\n",
    "        #print()\n",
    "        \n",
    "    return {'fair': fair[-1],\n",
    "            'loaded': 1-fair[-1]}, fair, history"
   ]
  },
  {
   "cell_type": "code",
   "execution_count": 4,
   "metadata": {
    "ExecuteTime": {
     "end_time": "2022-03-09T01:24:01.760358Z",
     "start_time": "2022-03-09T01:24:01.757530Z"
    },
    "code_folding": []
   },
   "outputs": [],
   "source": [
    "initial_belief = {'fair' : 0.50, \n",
    "                  'loaded': 0.50}\n",
    "\n",
    "conditionals = { 'head': {'fair':   0.5 ,\n",
    "                          'loaded': 0.55} ,\n",
    "                 'tail': {'fair':   0.5,\n",
    "                          'loaded': 0.45}\n",
    "               }"
   ]
  },
  {
   "cell_type": "code",
   "execution_count": 5,
   "metadata": {
    "ExecuteTime": {
     "end_time": "2022-03-09T01:24:01.765837Z",
     "start_time": "2022-03-09T01:24:01.762632Z"
    }
   },
   "outputs": [],
   "source": [
    "new_belief, fair, history = test_belief(initial_belief, \n",
    "                                        conditionals, \n",
    "                                        800, \n",
    "                                        0.55)"
   ]
  },
  {
   "cell_type": "code",
   "execution_count": 6,
   "metadata": {
    "ExecuteTime": {
     "end_time": "2022-03-09T01:24:01.774016Z",
     "start_time": "2022-03-09T01:24:01.767884Z"
    }
   },
   "outputs": [
    {
     "data": {
      "text/plain": [
       "{'fair': 0.008087010498502219, 'loaded': 0.9919129895014978}"
      ]
     },
     "execution_count": 6,
     "metadata": {},
     "output_type": "execute_result"
    }
   ],
   "source": [
    "new_belief"
   ]
  },
  {
   "cell_type": "markdown",
   "metadata": {},
   "source": [
    "## This is just plotting"
   ]
  },
  {
   "cell_type": "code",
   "execution_count": 7,
   "metadata": {
    "ExecuteTime": {
     "end_time": "2022-03-09T01:24:02.151661Z",
     "start_time": "2022-03-09T01:24:01.775241Z"
    }
   },
   "outputs": [],
   "source": [
    "from bokeh.plotting import figure, show\n",
    "from bokeh.io import output_notebook\n",
    "from bokeh.models import Range1d"
   ]
  },
  {
   "cell_type": "code",
   "execution_count": 8,
   "metadata": {
    "ExecuteTime": {
     "end_time": "2022-03-09T01:24:02.160970Z",
     "start_time": "2022-03-09T01:24:02.153494Z"
    }
   },
   "outputs": [
    {
     "data": {
      "text/html": [
       "\n",
       "    <div class=\"bk-root\">\n",
       "        <a href=\"https://bokeh.org\" target=\"_blank\" class=\"bk-logo bk-logo-small bk-logo-notebook\"></a>\n",
       "        <span id=\"1002\">Loading BokehJS ...</span>\n",
       "    </div>"
      ]
     },
     "metadata": {},
     "output_type": "display_data"
    },
    {
     "data": {
      "application/javascript": [
       "\n",
       "(function(root) {\n",
       "  function now() {\n",
       "    return new Date();\n",
       "  }\n",
       "\n",
       "  const force = true;\n",
       "\n",
       "  if (typeof root._bokeh_onload_callbacks === \"undefined\" || force === true) {\n",
       "    root._bokeh_onload_callbacks = [];\n",
       "    root._bokeh_is_loading = undefined;\n",
       "  }\n",
       "\n",
       "  const JS_MIME_TYPE = 'application/javascript';\n",
       "  const HTML_MIME_TYPE = 'text/html';\n",
       "  const EXEC_MIME_TYPE = 'application/vnd.bokehjs_exec.v0+json';\n",
       "  const CLASS_NAME = 'output_bokeh rendered_html';\n",
       "\n",
       "  /**\n",
       "   * Render data to the DOM node\n",
       "   */\n",
       "  function render(props, node) {\n",
       "    const script = document.createElement(\"script\");\n",
       "    node.appendChild(script);\n",
       "  }\n",
       "\n",
       "  /**\n",
       "   * Handle when an output is cleared or removed\n",
       "   */\n",
       "  function handleClearOutput(event, handle) {\n",
       "    const cell = handle.cell;\n",
       "\n",
       "    const id = cell.output_area._bokeh_element_id;\n",
       "    const server_id = cell.output_area._bokeh_server_id;\n",
       "    // Clean up Bokeh references\n",
       "    if (id != null && id in Bokeh.index) {\n",
       "      Bokeh.index[id].model.document.clear();\n",
       "      delete Bokeh.index[id];\n",
       "    }\n",
       "\n",
       "    if (server_id !== undefined) {\n",
       "      // Clean up Bokeh references\n",
       "      const cmd_clean = \"from bokeh.io.state import curstate; print(curstate().uuid_to_server['\" + server_id + \"'].get_sessions()[0].document.roots[0]._id)\";\n",
       "      cell.notebook.kernel.execute(cmd_clean, {\n",
       "        iopub: {\n",
       "          output: function(msg) {\n",
       "            const id = msg.content.text.trim();\n",
       "            if (id in Bokeh.index) {\n",
       "              Bokeh.index[id].model.document.clear();\n",
       "              delete Bokeh.index[id];\n",
       "            }\n",
       "          }\n",
       "        }\n",
       "      });\n",
       "      // Destroy server and session\n",
       "      const cmd_destroy = \"import bokeh.io.notebook as ion; ion.destroy_server('\" + server_id + \"')\";\n",
       "      cell.notebook.kernel.execute(cmd_destroy);\n",
       "    }\n",
       "  }\n",
       "\n",
       "  /**\n",
       "   * Handle when a new output is added\n",
       "   */\n",
       "  function handleAddOutput(event, handle) {\n",
       "    const output_area = handle.output_area;\n",
       "    const output = handle.output;\n",
       "\n",
       "    // limit handleAddOutput to display_data with EXEC_MIME_TYPE content only\n",
       "    if ((output.output_type != \"display_data\") || (!Object.prototype.hasOwnProperty.call(output.data, EXEC_MIME_TYPE))) {\n",
       "      return\n",
       "    }\n",
       "\n",
       "    const toinsert = output_area.element.find(\".\" + CLASS_NAME.split(' ')[0]);\n",
       "\n",
       "    if (output.metadata[EXEC_MIME_TYPE][\"id\"] !== undefined) {\n",
       "      toinsert[toinsert.length - 1].firstChild.textContent = output.data[JS_MIME_TYPE];\n",
       "      // store reference to embed id on output_area\n",
       "      output_area._bokeh_element_id = output.metadata[EXEC_MIME_TYPE][\"id\"];\n",
       "    }\n",
       "    if (output.metadata[EXEC_MIME_TYPE][\"server_id\"] !== undefined) {\n",
       "      const bk_div = document.createElement(\"div\");\n",
       "      bk_div.innerHTML = output.data[HTML_MIME_TYPE];\n",
       "      const script_attrs = bk_div.children[0].attributes;\n",
       "      for (let i = 0; i < script_attrs.length; i++) {\n",
       "        toinsert[toinsert.length - 1].firstChild.setAttribute(script_attrs[i].name, script_attrs[i].value);\n",
       "        toinsert[toinsert.length - 1].firstChild.textContent = bk_div.children[0].textContent\n",
       "      }\n",
       "      // store reference to server id on output_area\n",
       "      output_area._bokeh_server_id = output.metadata[EXEC_MIME_TYPE][\"server_id\"];\n",
       "    }\n",
       "  }\n",
       "\n",
       "  function register_renderer(events, OutputArea) {\n",
       "\n",
       "    function append_mime(data, metadata, element) {\n",
       "      // create a DOM node to render to\n",
       "      const toinsert = this.create_output_subarea(\n",
       "        metadata,\n",
       "        CLASS_NAME,\n",
       "        EXEC_MIME_TYPE\n",
       "      );\n",
       "      this.keyboard_manager.register_events(toinsert);\n",
       "      // Render to node\n",
       "      const props = {data: data, metadata: metadata[EXEC_MIME_TYPE]};\n",
       "      render(props, toinsert[toinsert.length - 1]);\n",
       "      element.append(toinsert);\n",
       "      return toinsert\n",
       "    }\n",
       "\n",
       "    /* Handle when an output is cleared or removed */\n",
       "    events.on('clear_output.CodeCell', handleClearOutput);\n",
       "    events.on('delete.Cell', handleClearOutput);\n",
       "\n",
       "    /* Handle when a new output is added */\n",
       "    events.on('output_added.OutputArea', handleAddOutput);\n",
       "\n",
       "    /**\n",
       "     * Register the mime type and append_mime function with output_area\n",
       "     */\n",
       "    OutputArea.prototype.register_mime_type(EXEC_MIME_TYPE, append_mime, {\n",
       "      /* Is output safe? */\n",
       "      safe: true,\n",
       "      /* Index of renderer in `output_area.display_order` */\n",
       "      index: 0\n",
       "    });\n",
       "  }\n",
       "\n",
       "  // register the mime type if in Jupyter Notebook environment and previously unregistered\n",
       "  if (root.Jupyter !== undefined) {\n",
       "    const events = require('base/js/events');\n",
       "    const OutputArea = require('notebook/js/outputarea').OutputArea;\n",
       "\n",
       "    if (OutputArea.prototype.mime_types().indexOf(EXEC_MIME_TYPE) == -1) {\n",
       "      register_renderer(events, OutputArea);\n",
       "    }\n",
       "  }\n",
       "\n",
       "  \n",
       "  if (typeof (root._bokeh_timeout) === \"undefined\" || force === true) {\n",
       "    root._bokeh_timeout = Date.now() + 5000;\n",
       "    root._bokeh_failed_load = false;\n",
       "  }\n",
       "\n",
       "  const NB_LOAD_WARNING = {'data': {'text/html':\n",
       "     \"<div style='background-color: #fdd'>\\n\"+\n",
       "     \"<p>\\n\"+\n",
       "     \"BokehJS does not appear to have successfully loaded. If loading BokehJS from CDN, this \\n\"+\n",
       "     \"may be due to a slow or bad network connection. Possible fixes:\\n\"+\n",
       "     \"</p>\\n\"+\n",
       "     \"<ul>\\n\"+\n",
       "     \"<li>re-rerun `output_notebook()` to attempt to load from CDN again, or</li>\\n\"+\n",
       "     \"<li>use INLINE resources instead, as so:</li>\\n\"+\n",
       "     \"</ul>\\n\"+\n",
       "     \"<code>\\n\"+\n",
       "     \"from bokeh.resources import INLINE\\n\"+\n",
       "     \"output_notebook(resources=INLINE)\\n\"+\n",
       "     \"</code>\\n\"+\n",
       "     \"</div>\"}};\n",
       "\n",
       "  function display_loaded() {\n",
       "    const el = document.getElementById(\"1002\");\n",
       "    if (el != null) {\n",
       "      el.textContent = \"BokehJS is loading...\";\n",
       "    }\n",
       "    if (root.Bokeh !== undefined) {\n",
       "      if (el != null) {\n",
       "        el.textContent = \"BokehJS \" + root.Bokeh.version + \" successfully loaded.\";\n",
       "      }\n",
       "    } else if (Date.now() < root._bokeh_timeout) {\n",
       "      setTimeout(display_loaded, 100)\n",
       "    }\n",
       "  }\n",
       "\n",
       "\n",
       "  function run_callbacks() {\n",
       "    try {\n",
       "      root._bokeh_onload_callbacks.forEach(function(callback) {\n",
       "        if (callback != null)\n",
       "          callback();\n",
       "      });\n",
       "    } finally {\n",
       "      delete root._bokeh_onload_callbacks\n",
       "    }\n",
       "    console.debug(\"Bokeh: all callbacks have finished\");\n",
       "  }\n",
       "\n",
       "  function load_libs(css_urls, js_urls, callback) {\n",
       "    if (css_urls == null) css_urls = [];\n",
       "    if (js_urls == null) js_urls = [];\n",
       "\n",
       "    root._bokeh_onload_callbacks.push(callback);\n",
       "    if (root._bokeh_is_loading > 0) {\n",
       "      console.debug(\"Bokeh: BokehJS is being loaded, scheduling callback at\", now());\n",
       "      return null;\n",
       "    }\n",
       "    if (js_urls == null || js_urls.length === 0) {\n",
       "      run_callbacks();\n",
       "      return null;\n",
       "    }\n",
       "    console.debug(\"Bokeh: BokehJS not loaded, scheduling load and callback at\", now());\n",
       "    root._bokeh_is_loading = css_urls.length + js_urls.length;\n",
       "\n",
       "    function on_load() {\n",
       "      root._bokeh_is_loading--;\n",
       "      if (root._bokeh_is_loading === 0) {\n",
       "        console.debug(\"Bokeh: all BokehJS libraries/stylesheets loaded\");\n",
       "        run_callbacks()\n",
       "      }\n",
       "    }\n",
       "\n",
       "    function on_error(url) {\n",
       "      console.error(\"failed to load \" + url);\n",
       "    }\n",
       "\n",
       "    for (let i = 0; i < css_urls.length; i++) {\n",
       "      const url = css_urls[i];\n",
       "      const element = document.createElement(\"link\");\n",
       "      element.onload = on_load;\n",
       "      element.onerror = on_error.bind(null, url);\n",
       "      element.rel = \"stylesheet\";\n",
       "      element.type = \"text/css\";\n",
       "      element.href = url;\n",
       "      console.debug(\"Bokeh: injecting link tag for BokehJS stylesheet: \", url);\n",
       "      document.body.appendChild(element);\n",
       "    }\n",
       "\n",
       "    for (let i = 0; i < js_urls.length; i++) {\n",
       "      const url = js_urls[i];\n",
       "      const element = document.createElement('script');\n",
       "      element.onload = on_load;\n",
       "      element.onerror = on_error.bind(null, url);\n",
       "      element.async = false;\n",
       "      element.src = url;\n",
       "      console.debug(\"Bokeh: injecting script tag for BokehJS library: \", url);\n",
       "      document.head.appendChild(element);\n",
       "    }\n",
       "  };\n",
       "\n",
       "  function inject_raw_css(css) {\n",
       "    const element = document.createElement(\"style\");\n",
       "    element.appendChild(document.createTextNode(css));\n",
       "    document.body.appendChild(element);\n",
       "  }\n",
       "\n",
       "  \n",
       "  const js_urls = [\"https://cdn.bokeh.org/bokeh/release/bokeh-2.4.2.min.js\", \"https://cdn.bokeh.org/bokeh/release/bokeh-gl-2.4.2.min.js\", \"https://cdn.bokeh.org/bokeh/release/bokeh-widgets-2.4.2.min.js\", \"https://cdn.bokeh.org/bokeh/release/bokeh-tables-2.4.2.min.js\", \"https://cdn.bokeh.org/bokeh/release/bokeh-mathjax-2.4.2.min.js\"];\n",
       "  const css_urls = [];\n",
       "  \n",
       "\n",
       "  const inline_js = [\n",
       "    function(Bokeh) {\n",
       "      Bokeh.set_log_level(\"info\");\n",
       "    },\n",
       "    function(Bokeh) {\n",
       "    \n",
       "    \n",
       "    }\n",
       "  ];\n",
       "\n",
       "  function run_inline_js() {\n",
       "    \n",
       "    if (root.Bokeh !== undefined || force === true) {\n",
       "      \n",
       "    for (let i = 0; i < inline_js.length; i++) {\n",
       "      inline_js[i].call(root, root.Bokeh);\n",
       "    }\n",
       "    if (force === true) {\n",
       "        display_loaded();\n",
       "      }} else if (Date.now() < root._bokeh_timeout) {\n",
       "      setTimeout(run_inline_js, 100);\n",
       "    } else if (!root._bokeh_failed_load) {\n",
       "      console.log(\"Bokeh: BokehJS failed to load within specified timeout.\");\n",
       "      root._bokeh_failed_load = true;\n",
       "    } else if (force !== true) {\n",
       "      const cell = $(document.getElementById(\"1002\")).parents('.cell').data().cell;\n",
       "      cell.output_area.append_execute_result(NB_LOAD_WARNING)\n",
       "    }\n",
       "\n",
       "  }\n",
       "\n",
       "  if (root._bokeh_is_loading === 0) {\n",
       "    console.debug(\"Bokeh: BokehJS loaded, going straight to plotting\");\n",
       "    run_inline_js();\n",
       "  } else {\n",
       "    load_libs(css_urls, js_urls, function() {\n",
       "      console.debug(\"Bokeh: BokehJS plotting callback run at\", now());\n",
       "      run_inline_js();\n",
       "    });\n",
       "  }\n",
       "}(window));"
      ],
      "application/vnd.bokehjs_load.v0+json": "\n(function(root) {\n  function now() {\n    return new Date();\n  }\n\n  const force = true;\n\n  if (typeof root._bokeh_onload_callbacks === \"undefined\" || force === true) {\n    root._bokeh_onload_callbacks = [];\n    root._bokeh_is_loading = undefined;\n  }\n\n  \n\n  \n  if (typeof (root._bokeh_timeout) === \"undefined\" || force === true) {\n    root._bokeh_timeout = Date.now() + 5000;\n    root._bokeh_failed_load = false;\n  }\n\n  const NB_LOAD_WARNING = {'data': {'text/html':\n     \"<div style='background-color: #fdd'>\\n\"+\n     \"<p>\\n\"+\n     \"BokehJS does not appear to have successfully loaded. If loading BokehJS from CDN, this \\n\"+\n     \"may be due to a slow or bad network connection. Possible fixes:\\n\"+\n     \"</p>\\n\"+\n     \"<ul>\\n\"+\n     \"<li>re-rerun `output_notebook()` to attempt to load from CDN again, or</li>\\n\"+\n     \"<li>use INLINE resources instead, as so:</li>\\n\"+\n     \"</ul>\\n\"+\n     \"<code>\\n\"+\n     \"from bokeh.resources import INLINE\\n\"+\n     \"output_notebook(resources=INLINE)\\n\"+\n     \"</code>\\n\"+\n     \"</div>\"}};\n\n  function display_loaded() {\n    const el = document.getElementById(\"1002\");\n    if (el != null) {\n      el.textContent = \"BokehJS is loading...\";\n    }\n    if (root.Bokeh !== undefined) {\n      if (el != null) {\n        el.textContent = \"BokehJS \" + root.Bokeh.version + \" successfully loaded.\";\n      }\n    } else if (Date.now() < root._bokeh_timeout) {\n      setTimeout(display_loaded, 100)\n    }\n  }\n\n\n  function run_callbacks() {\n    try {\n      root._bokeh_onload_callbacks.forEach(function(callback) {\n        if (callback != null)\n          callback();\n      });\n    } finally {\n      delete root._bokeh_onload_callbacks\n    }\n    console.debug(\"Bokeh: all callbacks have finished\");\n  }\n\n  function load_libs(css_urls, js_urls, callback) {\n    if (css_urls == null) css_urls = [];\n    if (js_urls == null) js_urls = [];\n\n    root._bokeh_onload_callbacks.push(callback);\n    if (root._bokeh_is_loading > 0) {\n      console.debug(\"Bokeh: BokehJS is being loaded, scheduling callback at\", now());\n      return null;\n    }\n    if (js_urls == null || js_urls.length === 0) {\n      run_callbacks();\n      return null;\n    }\n    console.debug(\"Bokeh: BokehJS not loaded, scheduling load and callback at\", now());\n    root._bokeh_is_loading = css_urls.length + js_urls.length;\n\n    function on_load() {\n      root._bokeh_is_loading--;\n      if (root._bokeh_is_loading === 0) {\n        console.debug(\"Bokeh: all BokehJS libraries/stylesheets loaded\");\n        run_callbacks()\n      }\n    }\n\n    function on_error(url) {\n      console.error(\"failed to load \" + url);\n    }\n\n    for (let i = 0; i < css_urls.length; i++) {\n      const url = css_urls[i];\n      const element = document.createElement(\"link\");\n      element.onload = on_load;\n      element.onerror = on_error.bind(null, url);\n      element.rel = \"stylesheet\";\n      element.type = \"text/css\";\n      element.href = url;\n      console.debug(\"Bokeh: injecting link tag for BokehJS stylesheet: \", url);\n      document.body.appendChild(element);\n    }\n\n    for (let i = 0; i < js_urls.length; i++) {\n      const url = js_urls[i];\n      const element = document.createElement('script');\n      element.onload = on_load;\n      element.onerror = on_error.bind(null, url);\n      element.async = false;\n      element.src = url;\n      console.debug(\"Bokeh: injecting script tag for BokehJS library: \", url);\n      document.head.appendChild(element);\n    }\n  };\n\n  function inject_raw_css(css) {\n    const element = document.createElement(\"style\");\n    element.appendChild(document.createTextNode(css));\n    document.body.appendChild(element);\n  }\n\n  \n  const js_urls = [\"https://cdn.bokeh.org/bokeh/release/bokeh-2.4.2.min.js\", \"https://cdn.bokeh.org/bokeh/release/bokeh-gl-2.4.2.min.js\", \"https://cdn.bokeh.org/bokeh/release/bokeh-widgets-2.4.2.min.js\", \"https://cdn.bokeh.org/bokeh/release/bokeh-tables-2.4.2.min.js\", \"https://cdn.bokeh.org/bokeh/release/bokeh-mathjax-2.4.2.min.js\"];\n  const css_urls = [];\n  \n\n  const inline_js = [\n    function(Bokeh) {\n      Bokeh.set_log_level(\"info\");\n    },\n    function(Bokeh) {\n    \n    \n    }\n  ];\n\n  function run_inline_js() {\n    \n    if (root.Bokeh !== undefined || force === true) {\n      \n    for (let i = 0; i < inline_js.length; i++) {\n      inline_js[i].call(root, root.Bokeh);\n    }\n    if (force === true) {\n        display_loaded();\n      }} else if (Date.now() < root._bokeh_timeout) {\n      setTimeout(run_inline_js, 100);\n    } else if (!root._bokeh_failed_load) {\n      console.log(\"Bokeh: BokehJS failed to load within specified timeout.\");\n      root._bokeh_failed_load = true;\n    } else if (force !== true) {\n      const cell = $(document.getElementById(\"1002\")).parents('.cell').data().cell;\n      cell.output_area.append_execute_result(NB_LOAD_WARNING)\n    }\n\n  }\n\n  if (root._bokeh_is_loading === 0) {\n    console.debug(\"Bokeh: BokehJS loaded, going straight to plotting\");\n    run_inline_js();\n  } else {\n    load_libs(css_urls, js_urls, function() {\n      console.debug(\"Bokeh: BokehJS plotting callback run at\", now());\n      run_inline_js();\n    });\n  }\n}(window));"
     },
     "metadata": {},
     "output_type": "display_data"
    }
   ],
   "source": [
    "output_notebook()"
   ]
  },
  {
   "cell_type": "code",
   "execution_count": 9,
   "metadata": {
    "ExecuteTime": {
     "end_time": "2022-03-09T01:24:02.197768Z",
     "start_time": "2022-03-09T01:24:02.162033Z"
    }
   },
   "outputs": [
    {
     "data": {
      "text/html": [
       "\n",
       "\n",
       "\n",
       "\n",
       "\n",
       "\n",
       "  <div class=\"bk-root\" id=\"6497ca51-631c-431d-8dd5-0352ef8db693\" data-root-id=\"1003\"></div>\n"
      ]
     },
     "metadata": {},
     "output_type": "display_data"
    },
    {
     "data": {
      "application/javascript": [
       "(function(root) {\n",
       "  function embed_document(root) {\n",
       "    \n",
       "  const docs_json = {\"a2dc420b-f3f7-455f-9ecd-d682b32c8e31\":{\"defs\":[],\"roots\":{\"references\":[{\"attributes\":{\"below\":[{\"id\":\"1012\"}],\"center\":[{\"id\":\"1015\"},{\"id\":\"1019\"}],\"left\":[{\"id\":\"1016\"}],\"renderers\":[{\"id\":\"1038\"}],\"title\":{\"id\":\"1040\"},\"toolbar\":{\"id\":\"1027\"},\"x_range\":{\"id\":\"1004\"},\"x_scale\":{\"id\":\"1008\"},\"y_range\":{\"id\":\"1006\"},\"y_scale\":{\"id\":\"1010\"}},\"id\":\"1003\",\"subtype\":\"Figure\",\"type\":\"Plot\"},{\"attributes\":{\"coordinates\":null,\"group\":null},\"id\":\"1040\",\"type\":\"Title\"},{\"attributes\":{\"coordinates\":null,\"data_source\":{\"id\":\"1034\"},\"glyph\":{\"id\":\"1035\"},\"group\":null,\"hover_glyph\":null,\"muted_glyph\":{\"id\":\"1037\"},\"nonselection_glyph\":{\"id\":\"1036\"},\"view\":{\"id\":\"1039\"}},\"id\":\"1038\",\"type\":\"GlyphRenderer\"},{\"attributes\":{},\"id\":\"1047\",\"type\":\"AllLabels\"},{\"attributes\":{\"line_color\":\"#1f77b4\",\"x\":{\"field\":\"x\"},\"y\":{\"field\":\"y\"}},\"id\":\"1035\",\"type\":\"Line\"},{\"attributes\":{},\"id\":\"1006\",\"type\":\"DataRange1d\"},{\"attributes\":{\"data\":{\"x\":[0,1,2,3,4,5,6,7,8,9,10,11,12,13,14,15,16,17,18,19,20,21,22,23,24,25,26,27,28,29,30,31,32,33,34,35,36,37,38,39,40,41,42,43,44,45,46,47,48,49,50,51,52,53,54,55,56,57,58,59,60,61,62,63,64,65,66,67,68,69,70,71,72,73,74,75,76,77,78,79,80,81,82,83,84,85,86,87,88,89,90,91,92,93,94,95,96,97,98,99,100,101,102,103,104,105,106,107,108,109,110,111,112,113,114,115,116,117,118,119,120,121,122,123,124,125,126,127,128,129,130,131,132,133,134,135,136,137,138,139,140,141,142,143,144,145,146,147,148,149,150,151,152,153,154,155,156,157,158,159,160,161,162,163,164,165,166,167,168,169,170,171,172,173,174,175,176,177,178,179,180,181,182,183,184,185,186,187,188,189,190,191,192,193,194,195,196,197,198,199,200,201,202,203,204,205,206,207,208,209,210,211,212,213,214,215,216,217,218,219,220,221,222,223,224,225,226,227,228,229,230,231,232,233,234,235,236,237,238,239,240,241,242,243,244,245,246,247,248,249,250,251,252,253,254,255,256,257,258,259,260,261,262,263,264,265,266,267,268,269,270,271,272,273,274,275,276,277,278,279,280,281,282,283,284,285,286,287,288,289,290,291,292,293,294,295,296,297,298,299,300,301,302,303,304,305,306,307,308,309,310,311,312,313,314,315,316,317,318,319,320,321,322,323,324,325,326,327,328,329,330,331,332,333,334,335,336,337,338,339,340,341,342,343,344,345,346,347,348,349,350,351,352,353,354,355,356,357,358,359,360,361,362,363,364,365,366,367,368,369,370,371,372,373,374,375,376,377,378,379,380,381,382,383,384,385,386,387,388,389,390,391,392,393,394,395,396,397,398,399,400,401,402,403,404,405,406,407,408,409,410,411,412,413,414,415,416,417,418,419,420,421,422,423,424,425,426,427,428,429,430,431,432,433,434,435,436,437,438,439,440,441,442,443,444,445,446,447,448,449,450,451,452,453,454,455,456,457,458,459,460,461,462,463,464,465,466,467,468,469,470,471,472,473,474,475,476,477,478,479,480,481,482,483,484,485,486,487,488,489,490,491,492,493,494,495,496,497,498,499,500,501,502,503,504,505,506,507,508,509,510,511,512,513,514,515,516,517,518,519,520,521,522,523,524,525,526,527,528,529,530,531,532,533,534,535,536,537,538,539,540,541,542,543,544,545,546,547,548,549,550,551,552,553,554,555,556,557,558,559,560,561,562,563,564,565,566,567,568,569,570,571,572,573,574,575,576,577,578,579,580,581,582,583,584,585,586,587,588,589,590,591,592,593,594,595,596,597,598,599,600,601,602,603,604,605,606,607,608,609,610,611,612,613,614,615,616,617,618,619,620,621,622,623,624,625,626,627,628,629,630,631,632,633,634,635,636,637,638,639,640,641,642,643,644,645,646,647,648,649,650,651,652,653,654,655,656,657,658,659,660,661,662,663,664,665,666,667,668,669,670,671,672,673,674,675,676,677,678,679,680,681,682,683,684,685,686,687,688,689,690,691,692,693,694,695,696,697,698,699,700,701,702,703,704,705,706,707,708,709,710,711,712,713,714,715,716,717,718,719,720,721,722,723,724,725,726,727,728,729,730,731,732,733,734,735,736,737,738,739,740,741,742,743,744,745,746,747,748,749,750,751,752,753,754,755,756,757,758,759,760,761,762,763,764,765,766,767,768,769,770,771,772,773,774,775,776,777,778,779,780,781,782,783,784,785,786,787,788,789,790,791,792,793,794,795,796,797,798,799,800],\"y\":[0.5,0.47619047619047616,0.4524886877828054,0.42900042900042895,0.4549797534009736,0.4812064808888845,0.5075371809050301,0.4837159679816791,0.4599685273894629,0.4862262766072797,0.4624659892817038,0.4388749671519965,0.4649653361012989,0.4413515009064328,0.41799999398059484,0.395010389097356,0.42044699551982867,0.4463132118038397,0.4228979130809734,0.3998239873320142,0.3771861777145919,0.40223812406646675,0.4278110368603373,0.45377557440184707,0.47999402019923454,0.4562678206845705,0.482503064989904,0.45876225871174053,0.43520720239032823,0.46125876523418813,0.4376791828919387,0.46375721658915603,0.49003498924954386,0.46625748872455414,0.4426323201136409,0.4192639051085937,0.4451132374380162,0.4217129443935162,0.4475968933488476,0.4737679839663332,0.5000840054011785,0.47627429177378444,0.502596566023032,0.4787817951211408,0.5051089955120355,0.4812903681382056,0.5076211670044172,0.5339097531210893,0.5101329536885146,0.5364099073826923,0.5126442288303723,0.4888212434250225,0.46504893004436243,0.441434352144856,0.4180817422246444,0.39509069342644687,0.42052887653642745,0.3974951787559226,0.4229799230485422,0.39990462339223887,0.37726511808067914,0.35514876561855296,0.3336343155942564,0.3127909969203762,0.33587245437357316,0.35976547024935746,0.3843744497582724,0.3620836548341891,0.3403708424523669,0.36440827478216115,0.34263093600906086,0.32149673521839495,0.3010690985867954,0.2814011057376094,0.30318817442729834,0.32589706748134495,0.34945385427609094,0.3737692700801596,0.35174209894365727,0.3303283055426026,0.35403717288959047,0.3784859588923608,0.40356829508657877,0.42916505992458803,0.4059897466543228,0.38322574449662045,0.40841577825342973,0.38560405101143713,0.4108462800216707,0.4365667739083765,0.46263305751776296,0.43904047381383365,0.46513252595095594,0.49141681289266936,0.5177486381434151,0.5439822565480255,0.5699740862099832,0.5955858198522158,0.5724357080945773,0.5980042337714717,0.6230506042780625,0.6004178882619636,0.5773480913086597,0.5539358853836567,0.5302819122166581,0.5064911087103873,0.4826708720195704,0.4589291312900601,0.435372399072226,0.41210387674620175,0.389221684788835,0.36681728071810077,0.3449741158429688,0.3691547045145028,0.39401068309463017,0.3714982839616844,0.3495302479004136,0.3738479245830626,0.3518187222710098,0.3304026416293737,0.3541140230703648,0.37856500593963416,0.35641606445017293,0.38093225225883287,0.4060707848807972,0.4317113853039575,0.4084969677149321,0.3856836621485636,0.36336175583272107,0.34161334388896286,0.3205113071152257,0.3001185883822011,0.28048777069280045,0.26166094565939807,0.28252054053223463,0.26360726101756826,0.24552684260556612,0.26556284653690104,0.24739335909309998,0.2300775684957394,0.24926937697798357,0.23186273167722088,0.251154873524746,0.23365754234018288,0.2170259243183789,0.2012672225632334,0.18638040843437467,0.1723570973217396,0.18790927511104707,0.17379550347139452,0.16053225627422943,0.1752433720914827,0.19099588423400723,0.17670072301612044,0.1925536511972507,0.2094669865453244,0.19412107472739368,0.21113608701650624,0.22921829079706213,0.24836154436354346,0.2685465346182412,0.25024246294738783,0.2327889369456418,0.25213284797849195,0.2725132162727005,0.29389358625497153,0.2745102420032519,0.2959835450502009,0.27651633972715994,0.29808209202733194,0.2785314693969648,0.30018917359458747,0.3227774919319864,0.3023047348578589,0.28258865799150445,0.26367249420002753,0.24558909371718263,0.22836127041947726,0.21200234815930394,0.23013709739410257,0.24933226339517317,0.2695678523539711,0.25121807644355415,0.2715513507169749,0.2531133434050807,0.23552248338801965,0.2550180391111116,0.23733687040086476,0.25693213718486513,0.23916086211665996,0.2222511265638183,0.2062129385029545,0.22399323139758628,0.20786292752731533,0.22574502809538996,0.2095226339863424,0.19417364670655593,0.17969347309322148,0.16607059388417417,0.15328749861562344,0.1413216203490774,0.15459648639261067,0.14254562884510777,0.13128825963460658,0.12079468364867389,0.11103263532228846,0.10196801184514778,0.09356552812101995,0.08578929104857154,0.07860329375738583,0.07197183278990002,0.0658598529292355,0.072646008208428,0.06648087749605106,0.07332599979454378,0.06710733732256038,0.07401184835027728,0.0815646371056185,0.08981341912423356,0.08232069952100139,0.07540128012130719,0.08308313626469124,0.07610494547291412,0.06966832351742035,0.07681463205966656,0.08462730062631692,0.09315440009353218,0.1024445379400728,0.11254618197679948,0.12350684400304972,0.11355392058050622,0.10430761311092748,0.1145695175772798,0.12569931838945833,0.13774212145710085,0.12680800161188774,0.11662444812037376,0.10715834215629173,0.09837501133520032,0.0902388510313718,0.08271386495010725,0.07576412665832288,0.06935416585356734,0.07647089813152096,0.07000567071171215,0.07718371217536284,0.08503046167484213,0.0935940303486518,0.0858156487197439,0.09445013198329193,0.08660740001775692,0.0793588237794156,0.08740575774092088,0.0800962225851316,0.07334883550053885,0.0671283766602234,0.0614004983987153,0.06776049509075963,0.07472682491718305,0.08234608750094802,0.07542470952177215,0.0690413197001001,0.07612857552002332,0.08387780636488115,0.07683846413315887,0.07034452789227301,0.06436115765203294,0.07100462628599034,0.07827647455964566,0.07167044137064403,0.07900467927471945,0.08701909742933493,0.0797390724003161,0.07301938381232713,0.08047969559351435,0.07370259255897661,0.06745431669174928,0.0617004663376236,0.05640773151964048,0.051544072673564,0.04707885113271021,0.042982917974881005,0.03922866748596574,0.043398246608221065,0.0396092215314721,0.03613851214984381,0.032961481855541035,0.030055043392988708,0.02739762461149549,0.030349416023064093,0.03360824108224804,0.030646580772493538,0.033936197700111956,0.03756523951182159,0.04156566344615482,0.04597175422194771,0.041967898192764225,0.038298754559993244,0.042373853310249114,0.04686142599018599,0.042783559866010686,0.04731237852014299,0.052294401409716564,0.047767453133239546,0.05279474011757197,0.04822668330797241,0.04403550175245887,0.04019317674815627,0.03667325291070294,0.03345084366881566,0.037029972540626614,0.040975821318667366,0.03739002729675323,0.03410686633005634,0.03110267984039877,0.028355338674960092,0.03140698123997592,0.034775291718349595,0.031714162402969294,0.028914420058474093,0.026355113035795134,0.029197957210583565,0.026614241234781903,0.024253445399495987,0.022097308168372482,0.02449242943585429,0.027139952332350042,0.0300648405537768,0.027406579999598203,0.03035930613817487,0.02767575254781383,0.030656564664501944,0.02794749279683239,0.03095664083018978,0.028221823742095888,0.03125955951578321,0.03461262441831448,0.03156534578558687,0.0287783505857497,0.03187402488829807,0.029060593359909376,0.032185622257625474,0.029345520583336664,0.032500163512893025,0.02963315614080997,0.027012001114071697,0.02992352409716305,0.027277407010693002,0.024859287911025006,0.022650541403667675,0.0251040880944325,0.02287410130896967,0.02083796935561912,0.01897956264554382,0.02104402445278026,0.019167600726016545,0.02125207289026718,0.01935746501455745,0.01762871794877449,0.016051832064342575,0.017803615555155142,0.019742740376875144,0.017980216592441454,0.01637241322366518,0.01490619842516933,0.016535056601890457,0.018338592927427833,0.016699288247602626,0.018520400552082886,0.020535963472399672,0.018703976263393676,0.017032576321559967,0.015508173396598657,0.017201663065827984,0.015662368130697914,0.017372398711449685,0.019265477728226173,0.021360362188916036,0.023677540117390036,0.02623934644397988,0.029070076071400937,0.032196090878109,0.029355093457981686,0.026757855812539016,0.024384639891240054,0.022217105001571796,0.020238244110014323,0.022436485115267746,0.02043849264442478,0.01861503542808367,0.016951446004433317,0.01543419017142238,0.014050796762137328,0.0127897885764811,0.014190709953861218,0.01574263337716077,0.014331996102892583,0.01589912165326132,0.01447466827676692,0.013176127531168657,0.014618739659287871,0.016216703203401805,0.017986150662993843,0.016377825515198816,0.014911133372053591,0.013573976098957868,0.015059482659100154,0.013709207287310437,0.015209285070153981,0.013845766810543295,0.012602924113986015,0.013983667337951635,0.012728605997405447,0.011584865378271587,0.012855524917464448,0.0117005150397532,0.010648158121070296,0.00968952334430827,0.010754558544112421,0.00978643947976798,0.010862010487712577,0.01205435226404568,0.01337580954670711,0.012174631001149447,0.013509093531398852,0.01229609494642643,0.011190777484248631,0.012418755479254076,0.013779603252127938,0.015287264453588731,0.013916854105906028,0.012667712342143771,0.01152937948037987,0.010492251268206668,0.011644481761504103,0.01059711049772331,0.011760719481483899,0.013050412508245762,0.014479462458275498,0.013180497372694935,0.01199664504322024,0.013311861417323802,0.014769112199819679,0.01638323956609429,0.014916069927996168,0.016545988683969306,0.015064467577250568,0.013713751466985686,0.015214318809218638,0.016876269682769153,0.015365637406218772,0.013988301202399342,0.012732829334170775,0.011588713677742637,0.01285978981725314,0.011704401301200146,0.012987999583641633,0.01441031496351889,0.013117470592541102,0.014553755274287724,0.013248214910955677,0.014698602096676595,0.013380244714525537,0.012178672797052552,0.013513572288367352,0.012300176564439706,0.01119449635692156,0.010187182176634476,0.011306293610399233,0.012546786494668513,0.011419194467418995,0.012671915733794555,0.0140601098678325,0.01559797660151021,0.014200114460745416,0.012925881236410655,0.014341492881152438,0.013054741208147844,0.011882048104045409,0.013184868644108807,0.012000628468280827,0.013316275667327052,0.014774002442670462,0.013448974509905946,0.014921008093505312,0.016551457389487254,0.015069454120238773,0.01371829713196597,0.015219354188527205,0.013854945928602029,0.012611289820415645,0.013992936580611074,0.01273705405415585,0.014132281878151989,0.015677917115287147,0.01427299472556052,0.0129923078542802,0.011825155873485014,0.010761710694661806,0.009792954171477962,0.010869233312341417,0.01206235828188348,0.010977818290564455,0.012182715918223192,0.013518052509859631,0.012304259520444416,0.013652734268759742,0.012427000474803425,0.011310050431829146,0.012550950270862293,0.013926079686112718,0.012676120502304822,0.011537040903980644,0.010499230826846919,0.009553874236306074,0.010604159062333047,0.009649446808377274,0.010710124589581609,0.011885993935543933,0.013189241345865327,0.012004613199946463,0.010925207717476546,0.009941881299369414,0.009046249976105545,0.01004129596529659,0.01114456153468807,0.012367531625516437,0.011255865775556009,0.012490895767709143,0.011368268867142742,0.010345481717195328,0.009413837077393282,0.008565363974081218,0.007792762508005166,0.00865113431610016,0.00787085772803543,0.008737755960702814,0.009699201150484603,0.010765288533990206,0.011947141213065232,0.0108728465057495,0.009894185729111545,0.009002812071439504,0.008191078495886902,0.00745198406775619,0.006779123508903962,0.007526690080818722,0.006847130639859665,0.00622854127585529,0.005665518242979855,0.00629106003493366,0.005722418220536999,0.00520490607770411,0.005779886334614403,0.006417974242724733,0.005837928190909768,0.0053100255870151426,0.0058965494490779684,0.005363374535813093,0.004878173529983903,0.004436670740873491,0.004927205224608956,0.004481284768710446,0.0049767272838810205,0.004526345384125423,0.0050267445621342485,0.005582153951036013,0.005077261960752253,0.005638221431147097,0.006260768301495337,0.005694848831272546,0.00517981696248186,0.00471114295299993,0.004284692302540561,0.003896692650400922,0.003543703202384832,0.003222586537643793,0.0029304826463966366,0.003255031961032344,0.0036153945983726657,0.003287802971711918,0.00365178037586082,0.004055888060686833,0.0036885309886969865,0.003354334768610032,0.003050325408970473,0.003388102141739288,0.0030810418456244386,0.003422208276593307,0.003112066627827648,0.0034566565480877018,0.0031434028313506615,0.00349145036428289,0.0031750535622495847,0.003526593166699923,0.003207021957156254,0.002916324753552853,0.0026519073962465757,0.0024114062535040707,0.0021926681771631796,0.0024357045644160477,0.0022147672875410776,0.0024602471111766304,0.0027328608443076496,0.0024850363365070197,0.002760389299706391,0.0025100747073115853,0.0027881942774645465,0.002535364714912261,0.002816278539542899,0.002560908875285107,0.0028446448751714678,0.0025867097292990616,0.0023521074101920834,0.002138736785505679,0.0023758096248463084,0.002639091807638405,0.0023997501124769336,0.0021820670491287195,0.001984090900969516,0.0018040443997976126,0.0016403093808116831,0.001822233864534978,0.001656850710438438,0.001840606388264705,0.002044700043853805,0.0018591638064413285,0.001690434623571144,0.0015369949477443054,0.0017074805653822989,0.0015524960464227352,0.0014115592640367325,0.001283400385097307,0.0011668637640342898,0.0010608977785016341,0.001178636374700529,0.0013094244901856926,0.0014547044529133666,0.0013226335063622676,0.0012025386892350685,0.0013359755922236847,0.0014841970079178019,0.0013494520847204079,0.0014991664215501307,0.0013630643341619537,0.001514286585731425,0.0013768137043488906,0.0012518055042238456,0.001390701572706112,0.0015449852348516891,0.0017163556227135605,0.0015605667922476453,0.0014188983825612594,0.0012900740281422281,0.001172932131882036,0.0010664156501820363,0.0011847658943254281,0.0013162332794395362,0.0014622675676843702,0.0013295108888633973,0.0012087923628402494,0.001342922257137131,0.0012209874784210699,0.0013564687280976468,0.0015069603484876956,0.0016741200724787915,0.0018597874685840237,0.001691001780887426,0.0018785379108801664,0.002086828769093934,0.0018974770364188758,0.0017252767306515124,0.0015686794284209844,0.0017426733986998719,0.0019359289216850136,0.0021505695407864484,0.0019554455208582095,0.0021722452779203536,0.002413023455599622,0.0021941390058983906,0.0024373380222842945,0.00270742014719732,0.0024618969874070206,0.0022385891863676514,0.002035495318316818,0.0018507927693804933,0.00205601360429915,0.0022839378039772387,0.0020767382891690896,0.001888300399766595,0.002097671440427379,0.0023302029337921304,0.0025884441930742936,0.0023536849375319826,0.0021401715149798515,0.002377403011066067,0.0021617426767463195,0.002401359516234971,0.002667465513183933,0.002425556838277791,0.002205538003687712,0.0020054366457830345,0.0018234566622402542,0.0020256525480853724,0.0018418414919786472,0.0016746817652861486,0.0015226697854714333,0.0016915691281680929,0.0018791680598893533,0.0020875286424160665,0.0018981135264103275,0.0017258555576256213,0.0019172496311472156,0.0017432580520299458,0.0015850312398882828,0.0017608357132521126,0.0019561014176984553,0.0021729737355533126,0.0019758209784204897,0.002194874789394556,0.0019957389355474003,0.0018146373543541806,0.0016499425082590752,0.0018329334275348724,0.00166658081882193,0.0015153030512017394,0.0016833866301244904,0.0018700798037673307,0.0017003616226911817,0.0015460222748959885,0.001717507493790798,0.0015616142747388415,0.001734825957600982,0.0015773632751603759,0.00175231874537427,0.0019466418129781432,0.002162467619988128,0.001966266198806225,0.0021842630161693615,0.002426370036817628,0.0022062776012764474,0.002450818758470319,0.002722390610969549,0.0024755132203312592,0.0027498138891862735,0.0025004558800155357,0.002273658543911875,0.0025256492194657763,0.0022965720481871554,0.0025510957451878786,0.002319715933575179,0.0025767979884889205,0.0023430925055403927,0.002602758505717272,0.0028911177973038617,0.0032113215182493714,0.0029202357271202336,0.0032436538930241685,0.0029496460510125538,0.003276310728124937,0.0036390205243628368,0.004041721926065072,0.00448878631495335,0.004082380734937173,0.0037126330664616486,0.003376260498271214,0.0037499937807601554,0.004164924374122362,0.004625553184668999,0.005136863445735484,0.005704370209616014,0.006334174402266371,0.005761658124551895,0.006397746624078167,0.0071035577198178615,0.007886617128687875,0.007174796014183551,0.007965645362359917,0.0072467435102212315,0.006592291613516367,0.007319407163189541,0.00812606596072155,0.009020817316742225,0.008207473753525886,0.009111106485323888,0.008289690282193661,0.009202290964439419,0.010214323829390125,0.011336382756596828,0.012580134926812033,0.013958416722487418,0.01548533516262077,0.014097423177185065,0.012832284902040447,0.011679338328846142,0.010628865582331755,0.009671950698837677,0.008800420383677886,0.008006787903295528,0.008888523390155204,0.008087010498502219]},\"selected\":{\"id\":\"1049\"},\"selection_policy\":{\"id\":\"1048\"}},\"id\":\"1034\",\"type\":\"ColumnDataSource\"},{\"attributes\":{},\"id\":\"1004\",\"type\":\"DataRange1d\"},{\"attributes\":{\"coordinates\":null,\"formatter\":{\"id\":\"1046\"},\"group\":null,\"major_label_policy\":{\"id\":\"1047\"},\"ticker\":{\"id\":\"1013\"}},\"id\":\"1012\",\"type\":\"LinearAxis\"},{\"attributes\":{},\"id\":\"1048\",\"type\":\"UnionRenderers\"},{\"attributes\":{},\"id\":\"1008\",\"type\":\"LinearScale\"},{\"attributes\":{},\"id\":\"1010\",\"type\":\"LogScale\"},{\"attributes\":{},\"id\":\"1049\",\"type\":\"Selection\"},{\"attributes\":{},\"id\":\"1013\",\"type\":\"BasicTicker\"},{\"attributes\":{\"axis\":{\"id\":\"1012\"},\"coordinates\":null,\"group\":null,\"ticker\":null},\"id\":\"1015\",\"type\":\"Grid\"},{\"attributes\":{},\"id\":\"1025\",\"type\":\"HelpTool\"},{\"attributes\":{\"coordinates\":null,\"formatter\":{\"id\":\"1043\"},\"group\":null,\"major_label_policy\":{\"id\":\"1044\"},\"ticker\":{\"id\":\"1017\"}},\"id\":\"1016\",\"type\":\"LogAxis\"},{\"attributes\":{\"axis\":{\"id\":\"1016\"},\"coordinates\":null,\"dimension\":1,\"group\":null,\"ticker\":null},\"id\":\"1019\",\"type\":\"Grid\"},{\"attributes\":{\"line_alpha\":0.2,\"line_color\":\"#1f77b4\",\"x\":{\"field\":\"x\"},\"y\":{\"field\":\"y\"}},\"id\":\"1037\",\"type\":\"Line\"},{\"attributes\":{\"overlay\":{\"id\":\"1026\"}},\"id\":\"1022\",\"type\":\"BoxZoomTool\"},{\"attributes\":{\"num_minor_ticks\":10},\"id\":\"1017\",\"type\":\"LogTicker\"},{\"attributes\":{\"bottom_units\":\"screen\",\"coordinates\":null,\"fill_alpha\":0.5,\"fill_color\":\"lightgrey\",\"group\":null,\"left_units\":\"screen\",\"level\":\"overlay\",\"line_alpha\":1.0,\"line_color\":\"black\",\"line_dash\":[4,4],\"line_width\":2,\"right_units\":\"screen\",\"syncable\":false,\"top_units\":\"screen\"},\"id\":\"1026\",\"type\":\"BoxAnnotation\"},{\"attributes\":{\"line_alpha\":0.1,\"line_color\":\"#1f77b4\",\"x\":{\"field\":\"x\"},\"y\":{\"field\":\"y\"}},\"id\":\"1036\",\"type\":\"Line\"},{\"attributes\":{},\"id\":\"1020\",\"type\":\"PanTool\"},{\"attributes\":{\"tools\":[{\"id\":\"1020\"},{\"id\":\"1021\"},{\"id\":\"1022\"},{\"id\":\"1023\"},{\"id\":\"1024\"},{\"id\":\"1025\"}]},\"id\":\"1027\",\"type\":\"Toolbar\"},{\"attributes\":{},\"id\":\"1021\",\"type\":\"WheelZoomTool\"},{\"attributes\":{},\"id\":\"1023\",\"type\":\"SaveTool\"},{\"attributes\":{},\"id\":\"1024\",\"type\":\"ResetTool\"},{\"attributes\":{\"ticker\":null},\"id\":\"1043\",\"type\":\"LogTickFormatter\"},{\"attributes\":{\"source\":{\"id\":\"1034\"}},\"id\":\"1039\",\"type\":\"CDSView\"},{\"attributes\":{},\"id\":\"1044\",\"type\":\"AllLabels\"},{\"attributes\":{},\"id\":\"1046\",\"type\":\"BasicTickFormatter\"}],\"root_ids\":[\"1003\"]},\"title\":\"Bokeh Application\",\"version\":\"2.4.2\"}};\n",
       "  const render_items = [{\"docid\":\"a2dc420b-f3f7-455f-9ecd-d682b32c8e31\",\"root_ids\":[\"1003\"],\"roots\":{\"1003\":\"6497ca51-631c-431d-8dd5-0352ef8db693\"}}];\n",
       "  root.Bokeh.embed.embed_items_notebook(docs_json, render_items);\n",
       "\n",
       "  }\n",
       "  if (root.Bokeh !== undefined) {\n",
       "    embed_document(root);\n",
       "  } else {\n",
       "    let attempts = 0;\n",
       "    const timer = setInterval(function(root) {\n",
       "      if (root.Bokeh !== undefined) {\n",
       "        clearInterval(timer);\n",
       "        embed_document(root);\n",
       "      } else {\n",
       "        attempts++;\n",
       "        if (attempts > 100) {\n",
       "          clearInterval(timer);\n",
       "          console.log(\"Bokeh: ERROR: Unable to run BokehJS code because BokehJS library is missing\");\n",
       "        }\n",
       "      }\n",
       "    }, 10, root)\n",
       "  }\n",
       "})(window);"
      ],
      "application/vnd.bokehjs_exec.v0+json": ""
     },
     "metadata": {
      "application/vnd.bokehjs_exec.v0+json": {
       "id": "1003"
      }
     },
     "output_type": "display_data"
    }
   ],
   "source": [
    "p = figure( y_axis_type=\"log\")\n",
    "p.line(list(range(len(fair))),fair)\n",
    "\n",
    "show(p)"
   ]
  }
 ],
 "metadata": {
  "kernelspec": {
   "display_name": "Python 3",
   "language": "python",
   "name": "python3"
  },
  "language_info": {
   "codemirror_mode": {
    "name": "ipython",
    "version": 3
   },
   "file_extension": ".py",
   "mimetype": "text/x-python",
   "name": "python",
   "nbconvert_exporter": "python",
   "pygments_lexer": "ipython3",
   "version": "3.8.10"
  }
 },
 "nbformat": 4,
 "nbformat_minor": 4
}
